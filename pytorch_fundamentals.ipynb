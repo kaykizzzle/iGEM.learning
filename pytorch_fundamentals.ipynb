{
  "nbformat": 4,
  "nbformat_minor": 0,
  "metadata": {
    "colab": {
      "provenance": [],
      "authorship_tag": "ABX9TyNXwEK74FSKuPX45zo8tTfN",
      "include_colab_link": true
    },
    "kernelspec": {
      "name": "python3",
      "display_name": "Python 3"
    },
    "language_info": {
      "name": "python"
    }
  },
  "cells": [
    {
      "cell_type": "markdown",
      "metadata": {
        "id": "view-in-github",
        "colab_type": "text"
      },
      "source": [
        "<a href=\"https://colab.research.google.com/github/kaykizzzle/iGEM.learning/blob/main/pytorch_fundamentals.ipynb\" target=\"_parent\"><img src=\"https://colab.research.google.com/assets/colab-badge.svg\" alt=\"Open In Colab\"/></a>"
      ]
    },
    {
      "cell_type": "code",
      "execution_count": 1,
      "metadata": {
        "colab": {
          "base_uri": "https://localhost:8080/"
        },
        "id": "bLD20TwtkFyq",
        "outputId": "5587cd7c-ffcb-4fe2-eba4-98f862ccd200"
      },
      "outputs": [
        {
          "output_type": "stream",
          "name": "stdout",
          "text": [
            "/bin/bash: line 1: nvidia-smi: command not found\n"
          ]
        }
      ],
      "source": [
        "!nvidia-smi\n"
      ]
    },
    {
      "cell_type": "markdown",
      "source": [
        "#resource notebook: https://www.learnpytorch.io/00_pytorch_fundamentals/\n"
      ],
      "metadata": {
        "id": "-uvHRkBlzCPO"
      }
    },
    {
      "cell_type": "code",
      "source": [
        "import torch\n",
        "import pandas as pd\n",
        "import numpy as np\n",
        "import matplotlib.pyplot as plt\n",
        "print(torch.__version__)"
      ],
      "metadata": {
        "colab": {
          "base_uri": "https://localhost:8080/"
        },
        "id": "ZM4njkOZz8cM",
        "outputId": "e767e04d-6ec3-431e-faec-7945dd03198e"
      },
      "execution_count": 2,
      "outputs": [
        {
          "output_type": "stream",
          "name": "stdout",
          "text": [
            "2.3.0+cu121\n"
          ]
        }
      ]
    },
    {
      "cell_type": "markdown",
      "source": [
        "tensors are a way to represent multidimensional data (scalar, vector, matrix, etc.)\n"
      ],
      "metadata": {
        "id": "VSX-sYeQ0roX"
      }
    },
    {
      "cell_type": "code",
      "source": [
        "scalar = torch.tensor(7)\n",
        "scalar.ndim\n",
        "scalar.item()\n",
        "\n",
        "vector = torch.tensor([7,7])\n",
        "vector.ndim  #number of dimensions is number of square brackets\n",
        "vector.shape #number of elements\n",
        "\n",
        "MATRIX = torch.tensor([[7,8],\n",
        "                       [9,10]])\n",
        "MATRIX.ndim\n",
        "MATRIX.shape\n",
        "print(MATRIX[0])\n",
        "print(MATRIX[1])\n",
        "print(MATRIX[:,0])"
      ],
      "metadata": {
        "colab": {
          "base_uri": "https://localhost:8080/"
        },
        "id": "SuNojktn0zYB",
        "outputId": "00726e11-74f2-4079-8626-499a3c7a8b97"
      },
      "execution_count": 3,
      "outputs": [
        {
          "output_type": "stream",
          "name": "stdout",
          "text": [
            "tensor([7, 8])\n",
            "tensor([ 9, 10])\n",
            "tensor([7, 9])\n"
          ]
        }
      ]
    },
    {
      "cell_type": "code",
      "source": [
        "TENSOR = torch.tensor([[[1,2,3],\n",
        "                    [3,6,9],\n",
        "                    [2,4,5]]])\n",
        "print(TENSOR.ndim)\n",
        "print(TENSOR.shape)"
      ],
      "metadata": {
        "colab": {
          "base_uri": "https://localhost:8080/"
        },
        "id": "b6opndnCkNEB",
        "outputId": "e959a01b-f388-458b-da69-d95f2ceb8954"
      },
      "execution_count": 4,
      "outputs": [
        {
          "output_type": "stream",
          "name": "stdout",
          "text": [
            "3\n",
            "torch.Size([1, 3, 3])\n"
          ]
        }
      ]
    },
    {
      "cell_type": "markdown",
      "source": [
        "###random tensors\n",
        "\n",
        "random tensors are important because the way many neural networks learn is that they start with tensors full of random numbers and then adjust those random numbers to better represent the data."
      ],
      "metadata": {
        "id": "sL_20fjilQCW"
      }
    },
    {
      "cell_type": "code",
      "source": [
        "random_tensor = torch.rand(3,4)\n",
        "random_tensor"
      ],
      "metadata": {
        "colab": {
          "base_uri": "https://localhost:8080/"
        },
        "id": "rjr6MXnEllD1",
        "outputId": "fbc8ec78-d32d-41d8-a4ff-8f7489212c13"
      },
      "execution_count": 5,
      "outputs": [
        {
          "output_type": "execute_result",
          "data": {
            "text/plain": [
              "tensor([[0.6644, 0.1743, 0.7257, 0.7169],\n",
              "        [0.7515, 0.2077, 0.5712, 0.3900],\n",
              "        [0.9965, 0.9598, 0.5674, 0.0277]])"
            ]
          },
          "metadata": {},
          "execution_count": 5
        }
      ]
    },
    {
      "cell_type": "code",
      "source": [
        "#create a random tensor with similar shape to an image tensor\n",
        "random_image_size_tensor = torch.rand(size=(224,224,3)) #height, width, colour channels (R,G,B)\n",
        "random_image_size_tensor.shape, random_image_size_tensor.ndim\n",
        "#sometimes color channels can go first, sometimes last!"
      ],
      "metadata": {
        "colab": {
          "base_uri": "https://localhost:8080/"
        },
        "id": "cYmfme1gmE5-",
        "outputId": "2c49c5b6-d414-4a58-95b0-6da7cd175f6f"
      },
      "execution_count": 6,
      "outputs": [
        {
          "output_type": "execute_result",
          "data": {
            "text/plain": [
              "(torch.Size([224, 224, 3]), 3)"
            ]
          },
          "metadata": {},
          "execution_count": 6
        }
      ]
    },
    {
      "cell_type": "markdown",
      "source": [
        "### Zeros and ones\n"
      ],
      "metadata": {
        "id": "17V_qT4Emo3W"
      }
    },
    {
      "cell_type": "code",
      "source": [
        "#create a tensor of all zeros\n",
        "zeros = torch.zeros(size=(3,4))\n",
        "print(zeros, zeros.dtype)\n",
        "print(zeros*random_tensor)\n",
        "\n",
        "#create a tensor of all ones\n",
        "ones = torch.ones(size=(3,4))\n",
        "print(ones, ones.dtype)"
      ],
      "metadata": {
        "colab": {
          "base_uri": "https://localhost:8080/"
        },
        "id": "EgnpnsGAmr-9",
        "outputId": "d4aefdb7-ba1f-4870-ec73-31de8631d6aa"
      },
      "execution_count": 7,
      "outputs": [
        {
          "output_type": "stream",
          "name": "stdout",
          "text": [
            "tensor([[0., 0., 0., 0.],\n",
            "        [0., 0., 0., 0.],\n",
            "        [0., 0., 0., 0.]]) torch.float32\n",
            "tensor([[0., 0., 0., 0.],\n",
            "        [0., 0., 0., 0.],\n",
            "        [0., 0., 0., 0.]])\n",
            "tensor([[1., 1., 1., 1.],\n",
            "        [1., 1., 1., 1.],\n",
            "        [1., 1., 1., 1.]]) torch.float32\n"
          ]
        }
      ]
    },
    {
      "cell_type": "markdown",
      "source": [
        "###Creating a range of tensors and tensors-like"
      ],
      "metadata": {
        "id": "OWCrntfanNrU"
      }
    },
    {
      "cell_type": "code",
      "source": [
        "one_to_ten = torch.arange(start=0,end=1000, step=77)\n",
        "one_to_ten\n",
        "ten_zeros = torch.zeros_like(input=one_to_ten)\n",
        "print(ten_zeros)\n",
        "# zeros in the same shape as one_to_ten"
      ],
      "metadata": {
        "colab": {
          "base_uri": "https://localhost:8080/"
        },
        "id": "1BRCA2acnSPu",
        "outputId": "6e8570cf-cd04-42fc-e319-37e9c908bf96"
      },
      "execution_count": 8,
      "outputs": [
        {
          "output_type": "stream",
          "name": "stdout",
          "text": [
            "tensor([0, 0, 0, 0, 0, 0, 0, 0, 0, 0, 0, 0, 0])\n"
          ]
        }
      ]
    },
    {
      "cell_type": "code",
      "source": [
        "float32_tensor = torch.tensor([3.0,6.0,9.0], dtype=None, device=None, requires_grad=False)\n",
        "print(float32_tensor)\n",
        "#dtype is what datatype the tensor is (most common is 16b and 32b), deal with precision and computing\n",
        "#device can be cuda or cpu (need to be the same for all compatible tensors)\n",
        "#requires_grad true or false, do we want pytorch to track the gradients as the tensor undergoes calculations?\n",
        "float_16_tensor = float32_tensor.type(torch.float16)\n",
        "print(float_16_tensor) #switch from 32b data type to 16b data type\n",
        "\n",
        "#you can perform some operations where the data types are different but some\n",
        "# data types aren't compatible for certain operations!"
      ],
      "metadata": {
        "colab": {
          "base_uri": "https://localhost:8080/"
        },
        "id": "T3eCsVjGn0r-",
        "outputId": "902955da-591d-43cf-9a5d-8175210dbb29"
      },
      "execution_count": 9,
      "outputs": [
        {
          "output_type": "stream",
          "name": "stdout",
          "text": [
            "tensor([3., 6., 9.])\n",
            "tensor([3., 6., 9.], dtype=torch.float16)\n"
          ]
        }
      ]
    },
    {
      "cell_type": "markdown",
      "source": [
        "###Manipulating tensors\n",
        "\n",
        "Include...\n",
        "\n",
        "\n",
        "*   addition\n",
        "*   subtraction\n",
        "\n",
        "\n",
        "*   multiplication/division\n",
        "*   matrix multiplication (dot product)\n",
        "\n",
        "\n",
        "\n"
      ],
      "metadata": {
        "id": "HHalykI4u4bL"
      }
    },
    {
      "cell_type": "code",
      "source": [
        "tensor = torch.tensor([1,2,3])\n",
        "print(tensor + 10,\n",
        "tensor - 10,\n",
        "tensor * 10,\n",
        "tensor / 10)"
      ],
      "metadata": {
        "colab": {
          "base_uri": "https://localhost:8080/"
        },
        "id": "8jSnyAsLu51X",
        "outputId": "522eaa57-2fac-4ff3-bfa6-6500785dda30"
      },
      "execution_count": 10,
      "outputs": [
        {
          "output_type": "stream",
          "name": "stdout",
          "text": [
            "tensor([11, 12, 13]) tensor([-9, -8, -7]) tensor([10, 20, 30]) tensor([0.1000, 0.2000, 0.3000])\n"
          ]
        }
      ]
    },
    {
      "cell_type": "code",
      "source": [
        "print(tensor)\n",
        "#element wise multiplication\n",
        "print(tensor * tensor)\n",
        "#matrix multiplication\n",
        "print(torch.matmul(tensor,tensor))"
      ],
      "metadata": {
        "colab": {
          "base_uri": "https://localhost:8080/"
        },
        "id": "lWvvQYpnvWIB",
        "outputId": "fc0fef64-fab1-463b-e73e-9b186193742e"
      },
      "execution_count": 11,
      "outputs": [
        {
          "output_type": "stream",
          "name": "stdout",
          "text": [
            "tensor([1, 2, 3])\n",
            "tensor([1, 4, 9])\n",
            "tensor(14)\n"
          ]
        }
      ]
    },
    {
      "cell_type": "markdown",
      "source": [
        "###shape errors...\n",
        "one of the most common errors in matrix multiplications\n",
        "1. the inner dimensions must match (3,2) @ (2,3) will work but (3,2) @ (3,2) WONT work\n",
        "2. resulting matrix has the shape of the outer dimensions"
      ],
      "metadata": {
        "id": "woGZQQOLwyqM"
      }
    },
    {
      "cell_type": "code",
      "source": [
        "#transposing the matrix fixes shape issues"
      ],
      "metadata": {
        "id": "XyelF8P7yLPN"
      },
      "execution_count": 12,
      "outputs": []
    },
    {
      "cell_type": "code",
      "source": [
        "tensor1 = torch.rand(3,2)\n",
        "tensor2 = torch.rand(3,2)\n",
        "tensor3 = tensor2.T #flips dimensions\n",
        "print(torch.mm(tensor1, tensor3))"
      ],
      "metadata": {
        "colab": {
          "base_uri": "https://localhost:8080/"
        },
        "id": "mAB24s15yNhf",
        "outputId": "c7951421-8fcd-485a-cef7-421a37cbf408"
      },
      "execution_count": 13,
      "outputs": [
        {
          "output_type": "stream",
          "name": "stdout",
          "text": [
            "tensor([[0.3283, 0.0091, 0.0416],\n",
            "        [0.2971, 0.0080, 0.0425],\n",
            "        [1.1068, 0.0329, 0.0973]])\n"
          ]
        }
      ]
    },
    {
      "cell_type": "markdown",
      "source": [
        "###Tensor Aggregation"
      ],
      "metadata": {
        "id": "KGxzbLn6zWMP"
      }
    },
    {
      "cell_type": "code",
      "source": [
        "x = torch.arange(0,100,10)\n",
        "print(x,\n",
        "x.min(),\n",
        "x.max(),\n",
        "torch.mean(x.type(torch.float32)),\n",
        "x.sum())"
      ],
      "metadata": {
        "colab": {
          "base_uri": "https://localhost:8080/"
        },
        "id": "T-0EAOWHzX3P",
        "outputId": "20c01a8c-b36d-49c1-e138-613ad3cbbc1f"
      },
      "execution_count": 14,
      "outputs": [
        {
          "output_type": "stream",
          "name": "stdout",
          "text": [
            "tensor([ 0, 10, 20, 30, 40, 50, 60, 70, 80, 90]) tensor(0) tensor(90) tensor(45.) tensor(450)\n"
          ]
        }
      ]
    },
    {
      "cell_type": "markdown",
      "source": [
        "###Find positional min and max"
      ],
      "metadata": {
        "id": "p1vY5HlD0OXV"
      }
    },
    {
      "cell_type": "code",
      "source": [
        "print(x)\n",
        "print(x.argmin())\n",
        "#returns index position of target tensor where minimum value occurs, argmax does the same with the max value\n",
        "print(x.argmax())"
      ],
      "metadata": {
        "colab": {
          "base_uri": "https://localhost:8080/"
        },
        "id": "SfShvLYY0Qfl",
        "outputId": "87966b72-1f4f-4264-80d4-3a692a998c77"
      },
      "execution_count": 15,
      "outputs": [
        {
          "output_type": "stream",
          "name": "stdout",
          "text": [
            "tensor([ 0, 10, 20, 30, 40, 50, 60, 70, 80, 90])\n",
            "tensor(0)\n",
            "tensor(9)\n"
          ]
        }
      ]
    },
    {
      "cell_type": "markdown",
      "source": [
        "###Reshaping, stacking, squeezing, and unsqueezing\n",
        "\n",
        "- reshaping = reshapes an input tesnor to a defined shape\n",
        "- view = return a view of an input tensor of certain shape but keep the same memory as the original tensor\n",
        "- stacking = combine multiple tesnors ontop or side by side (vstack or hstack)\n",
        "- squeeze = remove all '1' dimensions from a tensor\n",
        "- unsqueeze = add a '1' dimension to a target tensor\n",
        "- permute = return a view of the input with dimensions permuted (swapped) in a certain way"
      ],
      "metadata": {
        "id": "z8GyDd7B1opt"
      }
    },
    {
      "cell_type": "code",
      "source": [
        "#reshape\n",
        "y = torch.arange(1,11) #only from 1 to 10\n",
        "print(y)\n",
        "print(y.shape)\n",
        "print(y.reshape(5,2), y.reshape(2,5), y.reshape(1,10))\n",
        "#want the reshape to multiply to equal the shape\n",
        "\n",
        "#change the view\n",
        "z = y.view(1,10)\n",
        "print(z) #changing z changes y because a view of tensor shares the same memory as the original\n",
        "\n",
        "#stack tensors on top of each other\n",
        "y_stacked = torch.stack([y,y,y,y], dim=0)\n",
        "print(y_stacked)\n",
        "\n",
        "#squeeze tensors, fix dimension mismatch!\n",
        "y_reshaped = y.reshape(1,10)\n",
        "y_squeezed = y_reshaped.squeeze()\n",
        "print(y_reshaped.shape, y_squeezed.shape)\n",
        "\n",
        "#unsqueeze tensors, fix dimension mismatch!\n",
        "# adds a single dimension to a target tensor at a specific dimension\n",
        "y_unsqueezed = y_squeezed.unsqueeze(dim=1)\n",
        "print(y_unsqueezed.shape)\n",
        "\n",
        "#permute rearranges the dimensions in a certain order\n",
        "x_original = torch.rand(size=(224,224,3)) #height, width, color channels\n",
        "print(x_original.size())\n",
        "x_permuted = x_original.permute(2,0,1) #second dimension is first, 0th dimension is second, first dimension is third\n",
        "print(x_permuted.size()) #color channels, height, width"
      ],
      "metadata": {
        "colab": {
          "base_uri": "https://localhost:8080/"
        },
        "id": "MUDvvanC1rsW",
        "outputId": "63cb0c47-550f-45ef-8fc8-34703533564f"
      },
      "execution_count": 21,
      "outputs": [
        {
          "output_type": "stream",
          "name": "stdout",
          "text": [
            "tensor([ 1,  2,  3,  4,  5,  6,  7,  8,  9, 10])\n",
            "torch.Size([10])\n",
            "tensor([[ 1,  2],\n",
            "        [ 3,  4],\n",
            "        [ 5,  6],\n",
            "        [ 7,  8],\n",
            "        [ 9, 10]]) tensor([[ 1,  2,  3,  4,  5],\n",
            "        [ 6,  7,  8,  9, 10]]) tensor([[ 1,  2,  3,  4,  5,  6,  7,  8,  9, 10]])\n",
            "tensor([[ 1,  2,  3,  4,  5,  6,  7,  8,  9, 10]])\n",
            "tensor([[ 1,  2,  3,  4,  5,  6,  7,  8,  9, 10],\n",
            "        [ 1,  2,  3,  4,  5,  6,  7,  8,  9, 10],\n",
            "        [ 1,  2,  3,  4,  5,  6,  7,  8,  9, 10],\n",
            "        [ 1,  2,  3,  4,  5,  6,  7,  8,  9, 10]])\n",
            "torch.Size([1, 10]) torch.Size([10])\n",
            "torch.Size([10, 1])\n",
            "torch.Size([224, 224, 3])\n",
            "torch.Size([3, 224, 224])\n"
          ]
        }
      ]
    },
    {
      "cell_type": "markdown",
      "source": [
        "###Indexing (selecting data from tensors)"
      ],
      "metadata": {
        "id": "3Ftyjgem7i0e"
      }
    },
    {
      "cell_type": "code",
      "source": [
        "x = torch.arange(1,10).reshape(1,3,3)\n",
        "print(x, x.shape)\n",
        "print(x[0])\n",
        "print(x[0][0])\n",
        "print(x[0][0][0])\n",
        "print(x[0][2][2])\n",
        "\n",
        "#get all in the 0th dimension and only index 0 of the first dimenstion\n",
        "print(x[:,0])\n",
        "#get all in the 0th and 1st dimensions and only index 1 of the 2nd dimension\n",
        "print(x[:,:,1])\n",
        "#get only 9\n",
        "print(x[:,2,2])\n",
        "#get 3,6,9\n",
        "print(x[:,:,2])"
      ],
      "metadata": {
        "colab": {
          "base_uri": "https://localhost:8080/"
        },
        "id": "dGZvcQr-7w0I",
        "outputId": "61c47bdd-2dcb-49f7-89d1-bba2ce3f6a86"
      },
      "execution_count": 27,
      "outputs": [
        {
          "output_type": "stream",
          "name": "stdout",
          "text": [
            "tensor([[[1, 2, 3],\n",
            "         [4, 5, 6],\n",
            "         [7, 8, 9]]]) torch.Size([1, 3, 3])\n",
            "tensor([[1, 2, 3],\n",
            "        [4, 5, 6],\n",
            "        [7, 8, 9]])\n",
            "tensor([1, 2, 3])\n",
            "tensor(1)\n",
            "tensor(9)\n",
            "tensor([[1, 2, 3]])\n",
            "tensor([[2, 5, 8]])\n",
            "tensor([9])\n",
            "tensor([[3, 6, 9]])\n"
          ]
        }
      ]
    },
    {
      "cell_type": "markdown",
      "source": [
        "###Pytorch tensors and numpy\n",
        "numpy is a popular scientific python numerical computing library\n",
        "because of this, pytorch has functionality to interact with it\n",
        "- data in numpy, want in pytorch tensor -> torch.from_numpy(ndarray)\n",
        "-pytorch tensor -> numpy -> torch.Tensor.numpy()"
      ],
      "metadata": {
        "id": "bvFf_XhA9zzP"
      }
    },
    {
      "cell_type": "code",
      "source": [
        "#numpy array to tensor\n",
        "import numpy as np\n",
        "import torch\n",
        "\n",
        "array = np.arange(1.0,8.0)\n",
        "tensor = torch.from_numpy(array)\n",
        "print(array, tensor)\n",
        "#numpys default datatype is float64\n",
        "#"
      ],
      "metadata": {
        "colab": {
          "base_uri": "https://localhost:8080/"
        },
        "id": "-4HaxfwT-ak2",
        "outputId": "dbd9df95-8fc1-4254-8eab-d5da99c4b25c"
      },
      "execution_count": 28,
      "outputs": [
        {
          "output_type": "stream",
          "name": "stdout",
          "text": [
            "[1. 2. 3. 4. 5. 6. 7.] tensor([1., 2., 3., 4., 5., 6., 7.], dtype=torch.float64)\n"
          ]
        }
      ]
    }
  ]
}