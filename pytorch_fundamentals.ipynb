{
  "nbformat": 4,
  "nbformat_minor": 0,
  "metadata": {
    "colab": {
      "provenance": [],
      "authorship_tag": "ABX9TyMUezpPABfn+AXf3SBbveNl",
      "include_colab_link": true
    },
    "kernelspec": {
      "name": "python3",
      "display_name": "Python 3"
    },
    "language_info": {
      "name": "python"
    }
  },
  "cells": [
    {
      "cell_type": "markdown",
      "metadata": {
        "id": "view-in-github",
        "colab_type": "text"
      },
      "source": [
        "<a href=\"https://colab.research.google.com/github/kaykizzzle/iGEM.learning/blob/main/pytorch_fundamentals.ipynb\" target=\"_parent\"><img src=\"https://colab.research.google.com/assets/colab-badge.svg\" alt=\"Open In Colab\"/></a>"
      ]
    },
    {
      "cell_type": "code",
      "execution_count": 2,
      "metadata": {
        "colab": {
          "base_uri": "https://localhost:8080/"
        },
        "id": "bLD20TwtkFyq",
        "outputId": "022abe5f-a3bc-453c-889a-953490d273a6"
      },
      "outputs": [
        {
          "output_type": "stream",
          "name": "stdout",
          "text": [
            "/bin/bash: line 1: nvidia-smi: command not found\n"
          ]
        }
      ],
      "source": [
        "!nvidia-smi\n"
      ]
    },
    {
      "cell_type": "markdown",
      "source": [
        "#resource notebook: https://www.learnpytorch.io/00_pytorch_fundamentals/\n"
      ],
      "metadata": {
        "id": "-uvHRkBlzCPO"
      }
    },
    {
      "cell_type": "code",
      "source": [
        "import torch\n",
        "import pandas as pd\n",
        "import numpy as np\n",
        "import matplotlib.pyplot as plt\n",
        "print(torch.__version__)"
      ],
      "metadata": {
        "colab": {
          "base_uri": "https://localhost:8080/"
        },
        "id": "ZM4njkOZz8cM",
        "outputId": "43e4a626-f55a-4b5d-b6e2-718932b4aab4"
      },
      "execution_count": 3,
      "outputs": [
        {
          "output_type": "stream",
          "name": "stdout",
          "text": [
            "2.3.0+cu121\n"
          ]
        }
      ]
    },
    {
      "cell_type": "markdown",
      "source": [
        "tensors are a way to represent multidimensional data (scalar, vector, matrix, etc.)\n"
      ],
      "metadata": {
        "id": "VSX-sYeQ0roX"
      }
    },
    {
      "cell_type": "code",
      "source": [
        "scalar = torch.tensor(7)\n",
        "scalar.ndim\n",
        "scalar.item()\n",
        "\n",
        "vector = torch.tensor([7,7])\n",
        "vector.ndim  #number of dimensions is number of square brackets\n",
        "vector.shape #number of elements\n",
        "\n",
        "MATRIX = torch.tensor([[7,8],\n",
        "                       [9,10]])\n",
        "MATRIX.ndim\n",
        "MATRIX.shape\n",
        "print(MATRIX[0])\n",
        "print(MATRIX[1])\n",
        "print(MATRIX[:,0])"
      ],
      "metadata": {
        "colab": {
          "base_uri": "https://localhost:8080/"
        },
        "id": "SuNojktn0zYB",
        "outputId": "fc428943-80e1-443a-ac57-4c3e97a6be2d"
      },
      "execution_count": 4,
      "outputs": [
        {
          "output_type": "stream",
          "name": "stdout",
          "text": [
            "tensor([7, 8])\n",
            "tensor([ 9, 10])\n",
            "tensor([7, 9])\n"
          ]
        }
      ]
    },
    {
      "cell_type": "code",
      "source": [
        "TENSOR = torch.tensor([[[1,2,3],\n",
        "                    [3,6,9],\n",
        "                    [2,4,5]]])\n",
        "print(TENSOR.ndim)\n",
        "print(TENSOR.shape)"
      ],
      "metadata": {
        "colab": {
          "base_uri": "https://localhost:8080/"
        },
        "id": "b6opndnCkNEB",
        "outputId": "1d45a96d-7236-45ab-d370-147862907728"
      },
      "execution_count": 5,
      "outputs": [
        {
          "output_type": "stream",
          "name": "stdout",
          "text": [
            "3\n",
            "torch.Size([1, 3, 3])\n"
          ]
        }
      ]
    },
    {
      "cell_type": "markdown",
      "source": [
        "###random tensors\n",
        "\n",
        "random tensors are important because the way many neural networks learn is that they start with tensors full of random numbers and then adjust those random numbers to better represent the data."
      ],
      "metadata": {
        "id": "sL_20fjilQCW"
      }
    },
    {
      "cell_type": "code",
      "source": [
        "random_tensor = torch.rand(3,4)\n",
        "random_tensor"
      ],
      "metadata": {
        "colab": {
          "base_uri": "https://localhost:8080/"
        },
        "id": "rjr6MXnEllD1",
        "outputId": "e34b1a1a-bcf1-4b08-9449-1c83e024b3ef"
      },
      "execution_count": 6,
      "outputs": [
        {
          "output_type": "execute_result",
          "data": {
            "text/plain": [
              "tensor([[0.3963, 0.5586, 0.4683, 0.2260],\n",
              "        [0.8205, 0.8649, 0.0508, 0.4293],\n",
              "        [0.1690, 0.3753, 0.2697, 0.9708]])"
            ]
          },
          "metadata": {},
          "execution_count": 6
        }
      ]
    },
    {
      "cell_type": "code",
      "source": [
        "#create a random tensor with similar shape to an image tensor\n",
        "random_image_size_tensor = torch.rand(size=(224,224,3)) #height, width, colour channels (R,G,B)\n",
        "random_image_size_tensor.shape, random_image_size_tensor.ndim\n",
        "#sometimes color channels can go first, sometimes last!"
      ],
      "metadata": {
        "colab": {
          "base_uri": "https://localhost:8080/"
        },
        "id": "cYmfme1gmE5-",
        "outputId": "4c2e11c4-6626-4234-da7e-ac4416dc3035"
      },
      "execution_count": 7,
      "outputs": [
        {
          "output_type": "execute_result",
          "data": {
            "text/plain": [
              "(torch.Size([224, 224, 3]), 3)"
            ]
          },
          "metadata": {},
          "execution_count": 7
        }
      ]
    },
    {
      "cell_type": "markdown",
      "source": [
        "### Zeros and ones\n"
      ],
      "metadata": {
        "id": "17V_qT4Emo3W"
      }
    },
    {
      "cell_type": "code",
      "source": [
        "#create a tensor of all zeros\n",
        "zeros = torch.zeros(size=(3,4))\n",
        "print(zeros, zeros.dtype)\n",
        "print(zeros*random_tensor)\n",
        "\n",
        "#create a tensor of all ones\n",
        "ones = torch.ones(size=(3,4))\n",
        "print(ones, ones.dtype)"
      ],
      "metadata": {
        "colab": {
          "base_uri": "https://localhost:8080/"
        },
        "id": "EgnpnsGAmr-9",
        "outputId": "e7f9cf11-b533-485b-d8dc-ecfe0ef0bdd6"
      },
      "execution_count": 11,
      "outputs": [
        {
          "output_type": "stream",
          "name": "stdout",
          "text": [
            "tensor([[0., 0., 0., 0.],\n",
            "        [0., 0., 0., 0.],\n",
            "        [0., 0., 0., 0.]]) torch.float32\n",
            "tensor([[0., 0., 0., 0.],\n",
            "        [0., 0., 0., 0.],\n",
            "        [0., 0., 0., 0.]])\n",
            "tensor([[1., 1., 1., 1.],\n",
            "        [1., 1., 1., 1.],\n",
            "        [1., 1., 1., 1.]]) torch.float32\n"
          ]
        }
      ]
    },
    {
      "cell_type": "markdown",
      "source": [
        "###Creating a range of tensors and tensors-like"
      ],
      "metadata": {
        "id": "OWCrntfanNrU"
      }
    },
    {
      "cell_type": "code",
      "source": [
        "one_to_ten = torch.arange(start=0,end=1000, step=77)\n",
        "one_to_ten\n",
        "ten_zeros = torch.zeros_like(input=one_to_ten)\n",
        "print(ten_zeros)\n",
        "# zeros in the same shape as one_to_ten"
      ],
      "metadata": {
        "colab": {
          "base_uri": "https://localhost:8080/"
        },
        "id": "1BRCA2acnSPu",
        "outputId": "af04493c-4cbd-44e0-b8cc-8f8207e01aa5"
      },
      "execution_count": 18,
      "outputs": [
        {
          "output_type": "stream",
          "name": "stdout",
          "text": [
            "tensor([0, 0, 0, 0, 0, 0, 0, 0, 0, 0, 0, 0, 0])\n"
          ]
        }
      ]
    },
    {
      "cell_type": "code",
      "source": [
        "float32_tensor = torch.tensor([3.0,6.0,9.0], dtype=None, device=None, requires_grad=False)\n",
        "print(float32_tensor)\n",
        "#dtype is what datatype the tensor is (most common is 16b and 32b), deal with precision and computing\n",
        "#device can be cuda or cpu (need to be the same for all compatible tensors)\n",
        "#requires_grad true or false, do we want pytorch to track the gradients as the tensor undergoes calculations?\n",
        "float_16_tensor = float32_tensor.type(torch.float16)\n",
        "print(float_16_tensor) #switch from 32b data type to 16b data type\n",
        "\n",
        "#you can perform some operations where the data types are different but some\n",
        "# data types aren't compatible for certain operations!"
      ],
      "metadata": {
        "colab": {
          "base_uri": "https://localhost:8080/"
        },
        "id": "T3eCsVjGn0r-",
        "outputId": "c86722c2-5066-4494-87d6-be384fef4199"
      },
      "execution_count": 22,
      "outputs": [
        {
          "output_type": "stream",
          "name": "stdout",
          "text": [
            "tensor([3., 6., 9.])\n",
            "tensor([3., 6., 9.], dtype=torch.float16)\n"
          ]
        }
      ]
    },
    {
      "cell_type": "markdown",
      "source": [
        "###Manipulating tensors\n",
        "\n",
        "Include...\n",
        "\n",
        "\n",
        "*   addition\n",
        "*   subtraction\n",
        "\n",
        "\n",
        "*   multiplication/division\n",
        "*   matrix multiplication (dot product)\n",
        "\n",
        "\n",
        "\n"
      ],
      "metadata": {
        "id": "HHalykI4u4bL"
      }
    },
    {
      "cell_type": "code",
      "source": [
        "tensor = torch.tensor([1,2,3])\n",
        "print(tensor + 10,\n",
        "tensor - 10,\n",
        "tensor * 10,\n",
        "tensor / 10)"
      ],
      "metadata": {
        "colab": {
          "base_uri": "https://localhost:8080/"
        },
        "id": "8jSnyAsLu51X",
        "outputId": "99cd3133-5882-400d-d699-08931ea12dd0"
      },
      "execution_count": 24,
      "outputs": [
        {
          "output_type": "stream",
          "name": "stdout",
          "text": [
            "tensor([11, 12, 13]) tensor([-9, -8, -7]) tensor([10, 20, 30]) tensor([0.1000, 0.2000, 0.3000])\n"
          ]
        }
      ]
    },
    {
      "cell_type": "code",
      "source": [
        "print(tensor)\n",
        "#element wise multiplication\n",
        "print(tensor * tensor)\n",
        "#matrix multiplication\n",
        "print(torch.matmul(tensor,tensor))"
      ],
      "metadata": {
        "colab": {
          "base_uri": "https://localhost:8080/"
        },
        "id": "lWvvQYpnvWIB",
        "outputId": "2a54a4cb-380f-48bd-bba4-734d565d862a"
      },
      "execution_count": 27,
      "outputs": [
        {
          "output_type": "stream",
          "name": "stdout",
          "text": [
            "tensor([1, 2, 3])\n",
            "tensor([1, 4, 9])\n",
            "tensor(14)\n"
          ]
        }
      ]
    },
    {
      "cell_type": "markdown",
      "source": [
        "###shape errors...\n",
        "one of the most common errors in matrix multiplications\n",
        "1. the inner dimensions must match (3,2) @ (2,3) will work but (3,2) @ (3,2) WONT work\n",
        "2. resulting matrix has the shape of the outer dimensions"
      ],
      "metadata": {
        "id": "woGZQQOLwyqM"
      }
    },
    {
      "cell_type": "code",
      "source": [
        "#transposing the matrix fixes shape issues"
      ],
      "metadata": {
        "id": "XyelF8P7yLPN"
      },
      "execution_count": null,
      "outputs": []
    },
    {
      "cell_type": "code",
      "source": [
        "tensor1 = torch.rand(3,2)\n",
        "tensor2 = torch.rand(3,2)\n",
        "tensor3 = tensor2.T #flips dimensions\n",
        "print(torch.mm(tensor1, tensor3))"
      ],
      "metadata": {
        "colab": {
          "base_uri": "https://localhost:8080/"
        },
        "id": "mAB24s15yNhf",
        "outputId": "c1943d8a-a63b-47be-8c89-186a5273598e"
      },
      "execution_count": 34,
      "outputs": [
        {
          "output_type": "stream",
          "name": "stdout",
          "text": [
            "tensor([[0.2854, 0.3275, 0.5589],\n",
            "        [0.4924, 0.7263, 0.3597],\n",
            "        [0.2754, 0.3830, 0.2879]])\n"
          ]
        }
      ]
    },
    {
      "cell_type": "markdown",
      "source": [
        "###Tensor Aggregation"
      ],
      "metadata": {
        "id": "KGxzbLn6zWMP"
      }
    },
    {
      "cell_type": "code",
      "source": [
        "x = torch.arange(0,100,10)\n",
        "print(x,\n",
        "x.min(),\n",
        "x.max(),\n",
        "torch.mean(x.type(torch.float32)),\n",
        "x.sum())"
      ],
      "metadata": {
        "colab": {
          "base_uri": "https://localhost:8080/"
        },
        "id": "T-0EAOWHzX3P",
        "outputId": "06be7e04-1e4e-48b0-a501-3c9a9ef6ccef"
      },
      "execution_count": 38,
      "outputs": [
        {
          "output_type": "stream",
          "name": "stdout",
          "text": [
            "tensor([ 0, 10, 20, 30, 40, 50, 60, 70, 80, 90]) tensor(0) tensor(90) tensor(45.) tensor(450)\n"
          ]
        }
      ]
    },
    {
      "cell_type": "markdown",
      "source": [
        "###Find positional min and max"
      ],
      "metadata": {
        "id": "p1vY5HlD0OXV"
      }
    },
    {
      "cell_type": "code",
      "source": [
        "print(x)\n",
        "print(x.argmin())\n",
        "#returns index position of target tensor where minimum value occurs, argmax does the same with the max value\n",
        "print(x.argmax())"
      ],
      "metadata": {
        "id": "SfShvLYY0Qfl"
      },
      "execution_count": null,
      "outputs": []
    },
    {
      "cell_type": "markdown",
      "source": [
        "###Reshaping, stacking, squeezing, and unsqueezing\n",
        "\n",
        "- reshaping = reshapes an input tesnor to a defined shape\n",
        "- view = return a view of an input tensor of certain shape but keep the same memory as the original tensor\n",
        "- stacking = combine multiple tesnors ontop or side by side (vstack or hstack)\n",
        "- squeeze = remove all '1' dimensions from a tensor\n",
        "- unsqueeze = add a '1' dimension to a target tensor\n",
        "- permute = return a view of the input with dimensions permuted (swapped) in a certain way"
      ],
      "metadata": {
        "id": "z8GyDd7B1opt"
      }
    },
    {
      "cell_type": "code",
      "source": [
        "#reshape\n",
        "y = torch.arange(1,11) #only from 1 to 10\n",
        "print(y)\n",
        "print(y.shape)\n",
        "print(y.reshape(5,2), y.reshape(2,5), y.reshape(1,10))\n",
        "#want the reshape to multiply to equal the shape\n",
        "\n",
        "#change the view\n",
        "z = y.view(1,10)\n",
        "print(z) #changing z changes y because a view of tensor shares the same memory as the original\n",
        "\n",
        "#stack tensors on top of each other\n",
        "y_stacked = torch.stack([y,y,y,y], dim=0)\n",
        "print(y_stacked)\n",
        "\n",
        "#squeeze tensors, fix dimension mismatch!\n",
        "y_reshaped = y.reshape(1,10)\n",
        "y_squeezed = y_reshaped.squeeze()\n",
        "print(y_reshaped.shape, y_squeezed.shape)"
      ],
      "metadata": {
        "colab": {
          "base_uri": "https://localhost:8080/"
        },
        "id": "MUDvvanC1rsW",
        "outputId": "f58fee07-8430-497f-e33a-3bd400350ddc"
      },
      "execution_count": 69,
      "outputs": [
        {
          "output_type": "stream",
          "name": "stdout",
          "text": [
            "tensor([ 1,  2,  3,  4,  5,  6,  7,  8,  9, 10])\n",
            "torch.Size([10])\n",
            "tensor([[ 1,  2],\n",
            "        [ 3,  4],\n",
            "        [ 5,  6],\n",
            "        [ 7,  8],\n",
            "        [ 9, 10]]) tensor([[ 1,  2,  3,  4,  5],\n",
            "        [ 6,  7,  8,  9, 10]]) tensor([[ 1,  2,  3,  4,  5,  6,  7,  8,  9, 10]])\n",
            "tensor([[ 1,  2,  3,  4,  5,  6,  7,  8,  9, 10]])\n",
            "tensor([[ 1,  2,  3,  4,  5,  6,  7,  8,  9, 10],\n",
            "        [ 1,  2,  3,  4,  5,  6,  7,  8,  9, 10],\n",
            "        [ 1,  2,  3,  4,  5,  6,  7,  8,  9, 10],\n",
            "        [ 1,  2,  3,  4,  5,  6,  7,  8,  9, 10]])\n",
            "torch.Size([1, 10]) torch.Size([10])\n"
          ]
        }
      ]
    }
  ]
}